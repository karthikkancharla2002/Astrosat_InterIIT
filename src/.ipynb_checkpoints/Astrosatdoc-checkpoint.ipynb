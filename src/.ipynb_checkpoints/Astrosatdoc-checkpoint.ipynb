{
 "cells": [
  {
   "cell_type": "markdown",
   "metadata": {},
   "source": [
    "<h1 align=\"center\"><b>ISRO'S WEB-BASED VISUALISATION TOOL FOR ASTROSAT OBSERVATIONS</H1></b>\n"
   ]
  },
  {
   "cell_type": "markdown",
   "metadata": {},
   "source": [
    "<h2>INTRODUCTION</h2>"
   ]
  },
  {
   "cell_type": "markdown",
   "metadata": {},
   "source": [
    "<body>ASTROSAT is India’s first dedicated multi wavelength space observatory. This scientific satellite mission endeavours for a more detailed understanding of our universe. One of the unique features of ASTROSAT mission is that enables the simultaneous multi-wavelength observations of various astronomical objects with a single satellite.ASTROSAT observes universe in the optical, Ultraviolet, low and high energy X-ray regions of the electromagnetic spectrum,ASTROSAT with a lift-off mass of about 1513 kg was launched into a 650 km orbit inclined at an angle of 6 deg to the equator by PSLV-C30. After injection into Orbit, the two solar panels of ASTROSAT were automatically deployed in quick succession. The spacecraft control centre at Mission Operations Complex (MOX) of ISRO Telemetry, Tracking and Command Network (ISTRAC) at Bangalore manages the satellite during its mission life.\n",
    "<br>    \n",
    "<p>The scientific objectives of ASTROSAT mission are:\n",
    "<UL TYPE = \"CIRCLE\"><Li>To understand high energy processes in binary star systems containing neutron stars and black holes\n",
    "    <Li>   Estimate magnetic fields of neutron stars\n",
    "    <Li> Study star birth regions and high energy processes in star systems lying beyond our galaxy\n",
    "    <Li> Detect new briefly bright X-ray sources in the sky\n",
    "        <Li> Perform a limited deep field survey of the Universe in the Ultraviolet region</p>\n",
    "    </UL>\n",
    "    </body>"
   ]
  },
  {
   "cell_type": "markdown",
   "metadata": {},
   "source": [
    "<body><h4>PROBLEM STATEMENT :</H4>\n",
    "    <br>The problem involves developing a visualisaton tool for identifying the characteristics of a given cosmic source.\n",
    "    <br>Implementation of the requirements:\n",
    "        <ol type=\"1\">\n",
    "        <li>Used catalogs of cosmic sources along with the catalogs containing Astrosat data and the publications that have utilised\n",
    "        Astrosat data.\n",
    "        <li>Generated a map showing the position of the sources from the given catalog.\n",
    "        <li>The tool can be extended to any other catalog with minimal modification.\n",
    "        <li>The tool is designed using python software.\n",
    "        </ol>\n",
    "     </body>   \n",
    "\n",
    "    "
   ]
  },
  {
   "cell_type": "markdown",
   "metadata": {},
   "source": [
    "<h5>Importing python libraries to be used:</h5>"
   ]
  },
  {
   "cell_type": "code",
   "execution_count": 10,
   "metadata": {},
   "outputs": [],
   "source": [
    "#importing necessary libraries\n",
    "import pandas as pd\n",
    "import tkinter as tk\n",
    "from tkinter import Tk, filedialog, messagebox, ttk, LabelFrame\n",
    "from matplotlib.figure import Figure \n",
    "from matplotlib.backends.backend_tkagg import (FigureCanvasTkAgg,NavigationToolbar2Tk) \n",
    "import numpy as np\n",
    "import sys\n",
    "import matplotlib.pyplot as plt\n",
    "from astropy.io import ascii\n",
    "import astropy.coordinates as astro_cords\n",
    "import astropy.units as astro_units\n"
   ]
  },
  {
   "cell_type": "markdown",
   "metadata": {},
   "source": [
    "<h5>Storing Star Map and Catalog content:</h5>"
   ]
  },
  {
   "cell_type": "code",
   "execution_count": 11,
   "metadata": {},
   "outputs": [],
   "source": [
    "\n",
    "currHoverData = []\n",
    "\n",
    "\n",
    "def clickedSourceBox(n_data):\n",
    "    clickSourceRoot = Tk() \n",
    "    # Wrapper 1 stores the Star Map:\n",
    "    wrapper_sources = LabelFrame(clickSourceRoot)\n",
    "    wrapper_sources.pack(fill=\"both\", expand=\"yes\",padx=10, pady=10)\n",
    "    # Wrapper 2 stores the Catalog content:\n",
    "    wrapper_data = LabelFrame(clickSourceRoot)\n",
    "    wrapper_data.pack(fill=\"both\", expand=\"yes\",padx=10, pady=10)\n",
    "    frame1 = tk.LabelFrame(wrapper_sources, text=\"List of Catalogs\")\n",
    "    frame1.pack(fill=\"both\",expand=\"yes\",padx=10, pady=5) \n",
    "    file_frame = tk.LabelFrame(wrapper_data, text=\"Selected Catalog\")\n",
    "    file_frame.pack(fill=\"both\",expand=\"yes\",padx=10, pady=5)\n",
    "    "
   ]
  },
  {
   "cell_type": "markdown",
   "metadata": {},
   "source": [
    "<h5>Plotting X and Y axes:</h5>"
   ]
  },
  {
   "cell_type": "code",
   "execution_count": null,
   "metadata": {},
   "outputs": [],
   "source": [
    "tv1s = ttk.Treeview(frame1, columns=[\"Sl.no\", \"Source_name\"], show=\"headings\", height=\"6\")\n",
    "    tv1s.heading(\"Sl.no\", text = \"Sl.no\")\n",
    "    tv1s.heading(\"Source_name\", text = \"Source Name\")\n",
    "    tv1s.place(relheight=1, relwidth=1) # set the height and width of the widget to 100% of its container (frame1).\n",
    "\n",
    "    treescrolly = tk.Scrollbar(frame1, orient=\"vertical\", command=tv1s.yview) # command means update the yaxis view of the widget\n",
    "    treescrollx = tk.Scrollbar(frame1, orient=\"horizontal\", command=tv1s.xview) # command means update the xaxis view of the widget\n",
    "\n",
    "    tv1s.configure(xscrollcommand=treescrollx.set, yscrollcommand=treescrolly.set) # assign the scrollbars to the Treeview Widget\n",
    "\n",
    "    treescrollx.pack(side=\"bottom\", fill=\"x\") # make the scrollbar fill the x axis of the Treeview widget\n",
    "    treescrolly.pack(side=\"right\", fill=\"y\") # make the scrollbar fill the y axis of the Treeview widget\n",
    "\n",
    "    tv2 = ttk.Treeview(file_frame, show=\"headings\", height=\"6\")\n",
    "    tv2.place(relheight=1, relwidth=1)\n",
    "\n",
    "    treescrolly2 = tk.Scrollbar(file_frame, orient=\"vertical\", command=tv2.yview) # command means update the yaxis view of the widget\n",
    "    treescrollx2 = tk.Scrollbar(file_frame, orient=\"horizontal\", command=tv2.xview) # command means update the xaxis view of the widget\n",
    "\n",
    "    tv2.configure(xscrollcommand=treescrollx2.set, yscrollcommand=treescrolly2.set) # assign the scrollbars to the Treeview Widget\n",
    "\n",
    "    treescrollx2.pack(side=\"bottom\", fill=\"x\") # make the scrollbar fill the x axis of the Treeview widget\n",
    "    treescrolly2.pack(side=\"right\", fill=\"y\") # make the scrollbar fill the y axis of the Treeview widget\n",
    "\n",
    "    for i in range(len(n_data)):\n",
    "        tv1s.insert('', 'end',values=(i+1,n_data[i]))\n"
   ]
  },
  {
   "cell_type": "markdown",
   "metadata": {},
   "source": [
    "<h5>Displaying of the message box:</h5>"
   ]
  },
  {
   "cell_type": "code",
   "execution_count": null,
   "metadata": {},
   "outputs": [],
   "source": [
    "def selectedSource(n_data):\n",
    "        # clear_data()\n",
    "        df2 = getData(n_data)\n",
    "        if len(df2)==0:\n",
    "            messagebox.showinfo(\"information\",\"Source not present in astrosat data set\")  \n",
    "            return\n",
    "        "
   ]
  },
  {
   "cell_type": "markdown",
   "metadata": {},
   "source": [
    "<h5>Setting up the tree view:</h5>"
   ]
  },
  {
   "cell_type": "code",
   "execution_count": null,
   "metadata": {},
   "outputs": [],
   "source": [
    "tv2[\"column\"] = list(df2[0].columns)\n",
    "        tv2[\"show\"] = \"headings\"\n",
    "\n",
    "        for column in tv2[\"columns\"]:\n",
    "            tv2.heading(column, text=column) # let the column heading = column name\n",
    "        for df in df2:\n",
    "            tv2.insert(\"\", \"end\", values=np.array(df).tolist()) # inserts each list into the treeview. For parameters see https://docs.python.org/3/library/tkinter.ttk.html#tkinter.ttk.Treeview.insert    \n",
    "    tv1s.bind(\"<Double-1>\", lambda n_data:  selectedSource(n_data))\n",
    "    clickSourceRoot.title(\"Welcome to ASTROSAT data analyzer\")\n",
    "    clickSourceRoot.geometry('800x800')\n",
    "    clickSourceRoot.mainloop()"
   ]
  },
  {
   "cell_type": "markdown",
   "metadata": {},
   "source": [
    "<h5>Reading and rounding off the readings:</h5>"
   ]
  },
  {
   "cell_type": "code",
   "execution_count": null,
   "metadata": {},
   "outputs": [],
   "source": [
    "def getData(val):  \n",
    "    # val = \"0900-403\"  \n",
    "    tbl = ascii.read(\"Astrosat_readings_new.csv\")\n",
    "    data = ascii.read(\"lmxb_hmxb combined_cosmic sources.csv\")\n",
    "    a=tbl['RA']\n",
    "    b= tbl['Dec']\n",
    "    x=[]\n",
    "    x2=[]\n",
    "    for i in range(len(a)):\n",
    "        x.append(round(a[i],2))\n",
    "        x2.append(round(b[i],2))"
   ]
  },
  {
   "cell_type": "markdown",
   "metadata": {},
   "source": [
    "<h5>Storing data in arrays:</h5>"
   ]
  },
  {
   "cell_type": "code",
   "execution_count": null,
   "metadata": {},
   "outputs": [],
   "source": [
    "new = []\n",
    "    y = []\n",
    "    for i in range(len(data)):\n",
    "        i_row = data[i] # get the first (ith) row\n",
    "        ra = astro_cords.Angle(i_row[\"RA\"], unit=astro_units.hour) # create an Angle object\n",
    "        new.append(ra.degree)\n",
    "    for i in range(len(new)):\n",
    "        y.append(round(new[i],2))\n",
    "    "
   ]
  },
  {
   "cell_type": "code",
   "execution_count": null,
   "metadata": {},
   "outputs": [],
   "source": [
    "new2 = []\n",
    "    for i in range(len(data)):\n",
    "        i_row = data[i] # get the first (ith) row\n",
    "        dec = astro_cords.Angle(i_row[\"Dec\"], unit=astro_units.deg)\n",
    "        new2.append(dec.degree)\n",
    "    y2=[]\n",
    "    for i in range(len(new2)):\n",
    "        y2.append(round(new2[i],2))\n",
    "    "
   ]
  },
  {
   "cell_type": "markdown",
   "metadata": {},
   "source": [
    "<h5>Comparing the values with that of the source:</h5>"
   ]
  },
  {
   "cell_type": "code",
   "execution_count": null,
   "metadata": {},
   "outputs": [],
   "source": [
    "source= data[\"NAME\"]\n",
    "    r = 0\n",
    "    r2 = 0\n",
    "    for i in range(len(source)):\n",
    "        if val==source[i]:\n",
    "            r=y[i]\n",
    "            r2=y2[i]\n",
    "            # print(source[i])\n",
    "    data = []\n",
    "    for i in range(len(x)):\n",
    "        if r==x[i] and x2[i]==r2:\n",
    "            data.append(tbl[i])\n",
    "    return data"
   ]
  },
  {
   "cell_type": "markdown",
   "metadata": {},
   "source": [
    "<h5>Mapping:</h5>"
   ]
  },
  {
   "cell_type": "code",
   "execution_count": null,
   "metadata": {},
   "outputs": [],
   "source": [
    "def build_map():\n",
    "    data = ascii.read(\"lmxb_hmxb combined_cosmic sources.csv\")\n",
    "    \n",
    "    ra_degree = []  #new\n",
    "    dec_degree = [] #new2\n",
    "    names = []\n",
    "\n",
    "    for i in range(len(data)):\n",
    "        i_row = data[i] # get the first (ith) row\n",
    "        ra = astro_cords.Angle(i_row[\"RA\"], unit=astro_units.hour) # create an Angle object\n",
    "        ra_degree.append(ra.degree)\n",
    "        dec = astro_cords.Angle(i_row[\"Dec\"], unit=astro_units.deg)\n",
    "        dec_degree.append(dec.degree)\n",
    "        name = i_row[\"NAME\"]\n",
    "        names.append(name)\n",
    "\n",
    "    ra = astro_cords.Angle(ra_degree*astro_units.degree)\n",
    "    ra = ra.wrap_at(180*astro_units.degree)\n",
    "\n",
    "    dec = astro_cords.Angle(dec_degree*astro_units.degree)"
   ]
  },
  {
   "cell_type": "markdown",
   "metadata": {},
   "source": [
    "<h5>Creating mollweide and scatter plot:</h5>"
   ]
  },
  {
   "cell_type": "code",
   "execution_count": null,
   "metadata": {},
   "outputs": [],
   "source": [
    "fig = plt.figure(figsize=(8,6))\n",
    "    ax = fig.add_subplot(111, projection=\"mollweide\")\n",
    "    #scatter plot\n",
    "    scat_plot = ax.scatter(ra.radian, dec.radian)\n",
    "    annot = ax.annotate(\"\", xy=(0,0), xytext=(20,20),textcoords=\"offset points\", bbox=dict(boxstyle=\"round\", fc=\"w\"), arrowprops=dict(arrowstyle=\"->\"))\n",
    "    annot.set_visible(False)\n"
   ]
  },
  {
   "cell_type": "code",
   "execution_count": null,
   "metadata": {},
   "outputs": [],
   "source": [
    "def update_annot(ind):\n",
    "            pos = scat_plot.get_offsets()[ind[\"ind\"][0]]\n",
    "            annot.xy = pos\n",
    "            text = \"\"\n",
    "            if len(ind[\"ind\"])>0:\n",
    "                currHoverData = []\n",
    "            for i in ind[\"ind\"]:\n",
    "                text+= \" Source name : \"+names[i]+\"\\n\"\n",
    "                currHoverData.append(names[i])\n",
    "            annot.set_text(text)\n",
    "            annot.get_bbox_patch()\n",
    "            # .set_facecolor(cmap(norm(c[ind[\"ind\"][0]])))\n",
    "            annot.get_bbox_patch().set_alpha(0.4)"
   ]
  },
  {
   "cell_type": "markdown",
   "metadata": {},
   "source": [
    "<h5>Hovering over the plot:</h5>"
   ]
  },
  {
   "cell_type": "code",
   "execution_count": null,
   "metadata": {},
   "outputs": [],
   "source": [
    "    def hover(event):\n",
    "        vis = annot.get_visible()\n",
    "        if event.inaxes == ax:\n",
    "            cont, ind = scat_plot.contains(event)\n",
    "            if cont:\n",
    "                update_annot(ind)\n",
    "                annot.set_visible(True)\n",
    "                fig.canvas.draw_idle()\n",
    "            else:\n",
    "                if vis:\n",
    "                    annot.set_visible(False)\n",
    "                    fig.canvas.draw_idle()\n",
    "    fig.canvas.mpl_connect(\"motion_notify_event\", hover)\n"
   ]
  },
  {
   "cell_type": "code",
   "execution_count": null,
   "metadata": {},
   "outputs": [],
   "source": [
    "     def onclick(event):\n",
    "        cont, ind = scat_plot.contains(event)\n",
    "        if cont:\n",
    "            text = \"\"\n",
    "            obtainedData = []\n",
    "            for i in ind[\"ind\"]:\n",
    "                obtainedData.append(names[i])\n",
    "            clickedSourceBox(obtainedData)\n",
    "    fig.canvas.mpl_connect(\"button_press_event\", onclick)\n",
    "    ax.set_xticklabels(['14h','16h','18h','20h','22h','0h','2h','4h','6h','8h','10h'])\n",
    "    ax.grid(True)\n",
    "    plt.show()"
   ]
  },
  {
   "cell_type": "markdown",
   "metadata": {},
   "source": [
    "<h5>Building of the map:</h5>"
   ]
  },
  {
   "cell_type": "code",
   "execution_count": null,
   "metadata": {},
   "outputs": [],
   "source": [
    "## Applet code\n",
    "root = Tk() \n",
    "# Wrapper 1 stores the Star Map:\n",
    "w1 = LabelFrame(root)\n",
    "w1.pack(fill=\"x\",padx=10, pady=10)\n",
    "# Wrapper 2 stores the Catalog content:\n",
    "w2 = LabelFrame(root)\n",
    "w2.pack(fill=\"both\",expand=\"yes\",padx=10, pady=10)\n",
    "\n"
   ]
  },
  {
   "cell_type": "code",
   "execution_count": null,
   "metadata": {},
   "outputs": [],
   "source": [
    "def makestarmap():\n",
    "    build_map()\n",
    "B = tk.Button(w1, text =\"GetStarMap\", command = makestarmap)\n",
    "B.pack()\n"
   ]
  },
  {
   "cell_type": "markdown",
   "metadata": {},
   "source": [
    "<h5>Graphical User Interface:</h5>"
   ]
  },
  {
   "cell_type": "code",
   "execution_count": null,
   "metadata": {},
   "outputs": [],
   "source": [
    "################ Wrapper 2 GUI #####################################\n",
    "\n",
    "# Frame for TreeView\n",
    "frame1 = tk.LabelFrame(w2, text=\"List of Catalogs\")\n",
    "frame1.pack(fill=\"both\",expand=\"yes\",padx=10, pady=5) \n",
    "\n",
    "\n",
    "astro_csv_file = './Astrosat_readings_new.csv'\n",
    "df = pd.read_csv(astro_csv_file)\n"
   ]
  },
  {
   "cell_type": "code",
   "execution_count": null,
   "metadata": {},
   "outputs": [],
   "source": [
    "# Frame for Selected Catalog \n",
    "file_frame = tk.LabelFrame(w2, text=\"Selected Catalog\")\n",
    "file_frame.pack(fill=\"both\",expand=\"yes\",padx=10, pady=5)\n"
   ]
  },
  {
   "cell_type": "code",
   "execution_count": null,
   "metadata": {},
   "outputs": [],
   "source": [
    "## Treeview Widget\n",
    "tv1 = ttk.Treeview(frame1, columns=[\"Sl.no\", \"Catalog_ID\"], show=\"headings\", height=\"6\")\n",
    "tv1.heading(\"Sl.no\", text = \"Sl.no\")\n",
    "tv1.heading(\"Catalog_ID\", text = \"Catalog ID\")\n",
    "tv1.place(relheight=1, relwidth=1) # set the height and width of the widget to 100% of its container (frame1).\n",
    "\n",
    "treescrolly = tk.Scrollbar(frame1, orient=\"vertical\", command=tv1.yview) # command means update the yaxis view of the widget\n",
    "treescrollx = tk.Scrollbar(frame1, orient=\"horizontal\", command=tv1.xview) # command means update the xaxis view of the widget\n",
    "\n",
    "tv1.configure(xscrollcommand=treescrollx.set, yscrollcommand=treescrolly.set) # assign the scrollbars to the Treeview Widget\n",
    "\n",
    "treescrollx.pack(side=\"bottom\", fill=\"x\") # make the scrollbar fill the x axis of the Treeview widget\n",
    "treescrolly.pack(side=\"right\", fill=\"y\") # make the scrollbar fill the y axis of the Treeview widget\n",
    "\n",
    "catalog_data = df[['Proposal_ID']]\n",
    "catalog_ID_list = sorted(set(catalog_data['Proposal_ID'].array))    \n"
   ]
  },
  {
   "cell_type": "code",
   "execution_count": null,
   "metadata": {},
   "outputs": [],
   "source": [
    "def OnDoubleClick(event):\n",
    "        clear_data()\n",
    "        s = tv1.selection()[0]\n",
    "        selected_catalog_id = tv1.item(s,\"values\")[1]\n",
    "        df2 = df.loc[df['Proposal_ID'] == str(selected_catalog_id)]\n",
    "        tv2[\"column\"] = list(df2.columns)\n",
    "        tv2[\"show\"] = \"headings\"\n",
    "        for column in tv2[\"columns\"]:\n",
    "            tv2.heading(column, text=column) # let the column heading = column name\n",
    "        df_rows2 = df2.to_numpy().tolist() # turns the dataframe into a list of lists\n",
    "        for row in df_rows2:\n",
    "            tv2.insert(\"\", \"end\", values=row) # inserts each list into the treeview. \n",
    "for i in range(len(catalog_ID_list)):\n",
    "    tv1.insert('', 'end',values=(i+1,catalog_ID_list[i]))\n",
    "tv1.bind(\"<Double-1>\", OnDoubleClick)\n"
   ]
  },
  {
   "cell_type": "code",
   "execution_count": null,
   "metadata": {},
   "outputs": [],
   "source": [
    "## Treeview Widget\n",
    "tv2 = ttk.Treeview(file_frame, show=\"headings\", height=\"6\")\n",
    "tv2.place(relheight=1, relwidth=1)\n",
    "\n",
    "treescrolly2 = tk.Scrollbar(file_frame, orient=\"vertical\", command=tv2.yview) # command means update the yaxis view of the widget\n",
    "treescrollx2 = tk.Scrollbar(file_frame, orient=\"horizontal\", command=tv2.xview) # command means update the xaxis view of the widget\n",
    "\n",
    "tv2.configure(xscrollcommand=treescrollx2.set, yscrollcommand=treescrolly2.set) # assign the scrollbars to the Treeview Widget\n",
    "\n",
    "treescrollx2.pack(side=\"bottom\", fill=\"x\") # make the scrollbar fill the x axis of the Treeview widget\n",
    "treescrolly2.pack(side=\"right\", fill=\"y\") # make the scrollbar fill the y axis of the Treeview widget\n"
   ]
  },
  {
   "cell_type": "code",
   "execution_count": null,
   "metadata": {},
   "outputs": [],
   "source": [
    "def clear_data():  #clears the data from the table\n",
    "    tv2.delete(*tv2.get_children())\n",
    "    return None\n"
   ]
  },
  {
   "cell_type": "code",
   "execution_count": null,
   "metadata": {},
   "outputs": [],
   "source": [
    "# Execute Tkinter\n",
    "root.title(\"Welcome to ASTROSAT data analyzer\")\n",
    "root.geometry('800x800')\n",
    "root.mainloop()"
   ]
  }
 ],
 "metadata": {
  "kernelspec": {
   "display_name": "Python 3",
   "language": "python",
   "name": "python3"
  },
  "language_info": {
   "codemirror_mode": {
    "name": "ipython",
    "version": 3
   },
   "file_extension": ".py",
   "mimetype": "text/x-python",
   "name": "python",
   "nbconvert_exporter": "python",
   "pygments_lexer": "ipython3",
   "version": "3.8.2"
  }
 },
 "nbformat": 4,
 "nbformat_minor": 5
}
