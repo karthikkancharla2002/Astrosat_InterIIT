{
 "cells": [
  {
   "cell_type": "markdown",
   "metadata": {},
   "source": [
    "<h1 align=\"center\"><b>ISRO'S WEB-BASED VISUALIZATION TOOL FOR ASTROSAT OBSERVATIONS</H1></b>\n",
    "\n",
    "\n",
    "\n",
    "\n"
   ]
  },
  {
   "cell_type": "markdown",
   "metadata": {},
   "source": [
    "<h2>INTRODUCTION</h2>"
   ]
  },
  {
   "cell_type": "markdown",
   "metadata": {},
   "source": [
    "<h3>ABOUT ISRO</h3>"
   ]
  },
  {
   "cell_type": "markdown",
   "metadata": {},
   "source": [
    "<body>The Indian Space Research Organisation or is the national space agency of the Republic of India. ISRO is the primary agency in India to perform tasks related to space based applications, \n",
    "space exploration and development of related technologies. Throughout the years, ISRO has upheld its mission of bringing space to the service of the common man, to the service of the Nation. In the process, it has become one of the six largest space agencies in the world.ASTROSAT is an important mission of ISRO.</body>"
   ]
  },
  {
   "cell_type": "markdown",
   "metadata": {},
   "source": [
    "<h3>ABOUT ASTROSAT</H5>"
   ]
  },
  {
   "cell_type": "markdown",
   "metadata": {},
   "source": [
    "<body>ASTROSAT is India’s first dedicated multi wavelength space observatory. This scientific satellite mission endeavours for a more detailed understanding of our universe. One of the unique features of ASTROSAT mission is that enables the simultaneous multi-wavelength observations of various astronomical objects with a single satellite.ASTROSAT observes universe in the optical, Ultraviolet, low and high energy X-ray regions of the electromagnetic spectrum, ASTROSAT with a lift-off mass of about 1513 kg was launched into a 650 km orbit inclined at an angle of 6 deg to the equator by PSLV-C30. After injection into Orbit, the two solar panels of ASTROSAT were automatically deployed in quick succession. The spacecraft control centre at Mission Operations Complex (MOX) of ISRO Telemetry, Tracking and Command Network (ISTRAC) at Bangalore manages the satellite during its mission life.\n",
    "<br>    \n",
    "<p>The scientific objectives of ASTROSAT mission are:\n",
    "<UL TYPE = \"CIRCLE\"><Li>To understand high energy processes in binary star systems containing neutron stars and black holes\n",
    "    <Li>   Estimate magnetic fields of neutron stars\n",
    "    <Li> Study star birth regions and high energy processes in star systems lying beyond our galaxy\n",
    "    <Li> Detect new briefly bright X-ray sources in the sky\n",
    "        <Li> Perform a limited deep field survey of the Universe in the Ultraviolet region</p>\n",
    "    </UL>\n",
    "    </body>"
   ]
  },
  {
   "cell_type": "markdown",
   "metadata": {},
   "source": [
    "<body><h4>PROBLEM STATEMENT :</H4>\n",
    "    <br>The problem involves developing a visualisaton tool for identifying the characteristics of a given cosmic source.\n",
    "    <br><br>Implementation of the requirements:\n",
    "        <ol type=\"1\">\n",
    "        <li>Used catalogs of cosmic sources along with the catalogs containing Astrosat data and the publications that have utilised\n",
    "        Astrosat data.\n",
    "        <li>Generated a map showing the position of the sources from the given catalog.\n",
    "        <li>The tool can be extended to any other catalog with minimal modification.\n",
    "        <li>The tool is designed using python software.\n",
    "        </ol>\n",
    "     </body>   \n",
    "\n",
    "    "
   ]
  },
  {
   "cell_type": "markdown",
   "metadata": {},
   "source": [
    "<h5>Importing python libraries to be used:</h5>"
   ]
  },
  {
   "cell_type": "code",
   "execution_count": 5,
   "metadata": {},
   "outputs": [],
   "source": [
    "#importing necessary libraries\n",
    "import pandas as pd\n",
    "import tkinter as tk\n",
    "from tkinter import Tk, filedialog, messagebox, ttk, LabelFrame\n",
    "from matplotlib.figure import Figure \n",
    "from matplotlib.backends.backend_tkagg import (FigureCanvasTkAgg,NavigationToolbar2Tk) \n",
    "import numpy as np\n",
    "import matplotlib.pyplot as plt\n",
    "from astropy.io import ascii\n",
    "import astropy.coordinates as astro_cords\n",
    "import astropy.units as astro_units\n",
    "import csv\n",
    "\n"
   ]
  },
  {
   "cell_type": "markdown",
   "metadata": {},
   "source": [
    "<h5>Files required: (These are being pre-loaded, u can select the required files if needed)</h5>\n",
    "<body> Also, these are being globally defined to be used anywhere in the whole body </body>"
   ]
  },
  {
   "cell_type": "code",
   "execution_count": null,
   "metadata": {},
   "outputs": [],
   "source": [
    "publications_csv = \"./publication.csv\"\n",
    "sources_csv_file = \"lmxb_hmxb combined_cosmic sources.csv\"\n",
    "astro_csv_file = './Astrosat_readings_new.csv'\n"
   ]
  },
  {
   "cell_type": "markdown",
   "metadata": {},
   "source": [
    "<h5> Getting the Publications of selected source from the given files:</h5>\n",
    "<br>\n",
    "<body>We store all the data corresponding to each source such as Title, Authors,... in a Data Frame. We then match the selected source from the title irrespective of case, upon matching we display the desired information."
   ]
  },
  {
   "cell_type": "code",
   "execution_count": null,
   "metadata": {},
   "outputs": [],
   "source": [
    "Title = 'Title'\n",
    "Authors = 'Authors'\n",
    "Bibliographi = 'Bibliographi'\n",
    "Keywords = 'Keywords'\n",
    "Abstract = 'Abstract'\n",
    "URL = 'URL'\n",
    "\n",
    "title_data = []\n",
    "auth_data = []\n",
    "bibl_data = []\n",
    "keyword_data = []\n",
    "abs_data = []\n",
    "url_data = []\n",
    "\n",
    "with open(publications_csv, 'r', encoding=\"utf8\") as file:\n",
    "    reader = csv.reader(file)\n",
    "    for row in reader:\n",
    "        if len(row)>0:\n",
    "            header = row[0].split()[0][:-1]\n",
    "            if header == Title:\n",
    "                title_data.append(row[0].split(':')[1].strip())\n",
    "            elif header == Authors:\n",
    "                auth_data.append(row[0].split(':')[1].strip())\n",
    "            elif header == Bibliographi:\n",
    "                bibl_data.append(row[0].split(':')[1].strip())\n",
    "            elif header == Keywords:\n",
    "                keyword_data.append(row[0].split(':')[1].strip())\n",
    "            elif header == Abstract:\n",
    "                abs_data.append(row[0].split(':')[1].strip())\n",
    "            elif header == URL:\n",
    "                url_data.append(row[0][5:].strip())\n",
    "\n",
    "df_publications = pd.DataFrame([title_data, auth_data, bibl_data, keyword_data, abs_data, url_data], index=[Title,Authors,Bibliographi,Keywords,Abstract,URL]).T\n",
    "\n",
    "def displayPublicationData(source_name, source_name2):\n",
    "    df_selected_source_publication = df_publications[(df_publications.Title.str.replace(\" \",\"\").str.find(source_name.replace(\" \",\"\")) != -1) | (df_publications.Title.str.replace(\" \",\"\").str.find(source_name2.replace(\" \",\"\")) != -1) ]\n",
    "    return df_selected_source_publication\n"
   ]
  },
  {
   "cell_type": "markdown",
   "metadata": {},
   "source": [
    "<h5>Creating 3 different frames for displaying the list of catalogs, selected catalog and the publications:</h5>"
   ]
  },
  {
   "cell_type": "code",
   "execution_count": 16,
   "metadata": {},
   "outputs": [],
   "source": [
    "def clickedSourceBox(n_data):\n",
    "    clickSourceRoot = Tk() \n",
    "    # Wrapper 1 stores the Star Map:\n",
    "    wrapper_sources = LabelFrame(clickSourceRoot)\n",
    "    wrapper_sources.pack(fill=\"both\", expand=\"yes\",padx=10, pady=10)\n",
    "    # Wrapper 2 stores the Catalog content:\n",
    "    wrapper_data = LabelFrame(clickSourceRoot)\n",
    "    wrapper_data.pack(fill=\"both\", expand=\"yes\",padx=10, pady=10)\n",
    "    frame1 = tk.LabelFrame(wrapper_sources, text=\"List of Catalogs\")\n",
    "    frame1.pack(fill=\"both\",expand=\"yes\",padx=10, pady=5) \n",
    "    file_frame = tk.LabelFrame(wrapper_data, text=\"Selected Catalog\")\n",
    "    file_frame.pack(fill=\"both\",expand=\"yes\",padx=10, pady=5)\n",
    "    publications_frame = tk.LabelFrame(wrapper_data, text=\"Publications\")\n",
    "    publications_frame.pack(fill=\"both\",expand=\"yes\",padx=10, pady=5)\n",
    "    "
   ]
  },
  {
   "cell_type": "markdown",
   "metadata": {},
   "source": [
    "<h5>Configuring the frames with scroll bars and required size to display the information accordingly:</h5>"
   ]
  },
  {
   "cell_type": "code",
   "execution_count": null,
   "metadata": {},
   "outputs": [],
   "source": [
    "tv1s = ttk.Treeview(frame1, columns=[\"Sl.no\", \"Source_name\"], show=\"headings\", height=\"6\")\n",
    "    tv1s.heading(\"Sl.no\", text = \"Sl.no\")\n",
    "    tv1s.heading(\"Source_name\", text = \"Source Name\")\n",
    "    tv1s.place(relheight=1, relwidth=1) # set the height and width of the widget to 100% of its container (frame1).\n",
    "    treescrolly = tk.Scrollbar(frame1, orient=\"vertical\", command=tv1s.yview) # command means update the yaxis view of the widget\n",
    "    treescrollx = tk.Scrollbar(frame1, orient=\"horizontal\", command=tv1s.xview) # command means update the xaxis view of the widget\n",
    "    tv1s.configure(xscrollcommand=treescrollx.set, yscrollcommand=treescrolly.set) # assign the scrollbars to the Treeview Widget\n",
    "    treescrollx.pack(side=\"bottom\", fill=\"x\") # make the scrollbar fill the x axis of the Treeview widget\n",
    "    treescrolly.pack(side=\"right\", fill=\"y\") # make the scrollbar fill the y axis of the Treeview widget\n",
    "    \n",
    "    tv2 = ttk.Treeview(file_frame, show=\"headings\", height=\"6\")\n",
    "    tv2.place(relheight=1, relwidth=1)\n",
    "    treescrolly2 = tk.Scrollbar(file_frame, orient=\"vertical\", command=tv2.yview) # command means update the yaxis view of the widget\n",
    "    treescrollx2 = tk.Scrollbar(file_frame, orient=\"horizontal\", command=tv2.xview) # command means update the xaxis view of the widget\n",
    "    tv2.configure(xscrollcommand=treescrollx2.set, yscrollcommand=treescrolly2.set) # assign the scrollbars to the Treeview Widget\n",
    "    treescrollx2.pack(side=\"bottom\", fill=\"x\") # make the scrollbar fill the x axis of the Treeview widget\n",
    "    treescrolly2.pack(side=\"right\", fill=\"y\") # make the scrollbar fill the y axis of the Treeview widget\n",
    "    \n",
    "    tv3 = ttk.Treeview(publications_frame, show=\"headings\", height=\"6\")\n",
    "    tv3.place(relheight=1, relwidth=1)\n",
    "    treescrolly3 = tk.Scrollbar(publications_frame, orient=\"vertical\", command=tv3.yview) # command means update the yaxis view of the widget\n",
    "    treescrollx3 = tk.Scrollbar(publications_frame, orient=\"horizontal\", command=tv3.xview) # command means update the xaxis view of the widget\n",
    "    tv3.configure(xscrollcommand=treescrollx3.set, yscrollcommand=treescrolly3.set) # assign the scrollbars to the Treeview Widget\n",
    "    treescrollx3.pack(side=\"bottom\", fill=\"x\") # make the scrollbar fill the x axis of the Treeview widget\n",
    "    treescrolly3.pack(side=\"right\", fill=\"y\") # make the scrollbar fill the y axis of the Treeview widget\n",
    "\n",
    "    for i in range(len(n_data)):\n",
    "        tv1s.insert('', 'end',values=(i+1,n_data[i]))\n",
    "    def clear_window():\n",
    "        tv2.delete(*tv2.get_children())\n",
    "        tv3.delete(*tv2.get_children())"
   ]
  },
  {
   "cell_type": "markdown",
   "metadata": {},
   "source": [
    "<h5>Getting the astrosat name from the source name:</h5>"
   ]
  },
  {
   "cell_type": "code",
   "execution_count": null,
   "metadata": {},
   "outputs": [],
   "source": [
    "def selectedSource(n_data):\n",
    "        clear_window()\n",
    "        # print('selected', n_data)\n",
    "        s = tv1s.selection()[0]\n",
    "        selected_source_name = tv1s.item(s,\"values\")[1]\n",
    "        df_astrosat_data = getData(selected_source_name)\n",
    "        astrosat_name = selected_source_name\n",
    "        if (df_astrosat_data[df_astrosat_data.columns[0]].count())!=0:\n",
    "            astrosat_name = df_astrosat_data['Source_name'].values[0]\n",
    "        else:\n",
    "            return"
   ]
  },
  {
   "cell_type": "markdown",
   "metadata": {},
   "source": [
    "<h5>Setting up the tree view with desired column names:</h5>"
   ]
  },
  {
   "cell_type": "code",
   "execution_count": null,
   "metadata": {},
   "outputs": [],
   "source": [
    "        tv2[\"column\"] = list(df_astrosat_data.columns)\n",
    "        tv2[\"show\"] = \"headings\"\n",
    "        for column in tv2[\"columns\"]:\n",
    "            tv2.heading(column, text=column) # let the column heading = column name\n",
    "        df_rows2 = df_astrosat_data.to_numpy().tolist() # turns the dataframe into a list of lists\n",
    "        for row in df_rows2:\n",
    "            tv2.insert(\"\", \"end\", values=row) # inserts each list into the treeview. \n",
    "        \n",
    "        df_publications_data = displayPublicationData(astrosat_name, selected_source_name)\n",
    "        tv3[\"column\"] = list(df_publications_data.columns)\n",
    "        tv3[\"show\"] = \"headings\"\n",
    "        for column in tv3[\"columns\"]:\n",
    "            tv3.heading(column, text=column) # let the column heading = column name\n",
    "        df_rows2 = df_publications_data.to_numpy().tolist() # turns the dataframe into a list of lists\n",
    "        for row in df_rows2:\n",
    "            tv3.insert(\"\", \"end\", values=row) # inserts each list into the treeview. \n",
    "        \n",
    "\n",
    "    tv1s.bind(\"<Double-1>\", lambda n_data:  selectedSource(n_data))\n",
    "    clickSourceRoot.title(\"Welcome to ISRO data analyzer\")\n",
    "    clickSourceRoot.geometry('800x800')\n",
    "    clickSourceRoot.mainloop()"
   ]
  },
  {
   "cell_type": "markdown",
   "metadata": {},
   "source": [
    "<h5> Getting the data of a specific source and displaying it: </h5>"
   ]
  },
  {
   "cell_type": "code",
   "execution_count": null,
   "metadata": {},
   "outputs": [],
   "source": [
    "def getData(source_name):  \n",
    "    df_sources = pd.read_csv(sources_csv_file)\n",
    "    df_astrosat = pd.read_csv(astro_csv_file)\n",
    "    row_source = df_sources[df_sources['NAME'] == source_name]\n",
    "    r = round(astro_cords.Angle(row_source[\"RA\"].values[0], unit=astro_units.hour).degree,2)\n",
    "    r2 = round(astro_cords.Angle(row_source[\"Dec\"].values[0], unit=astro_units.deg).degree,2)\n",
    "    result = df_astrosat[round(df_astrosat['RA'],2) == r]\n",
    "    result = result[round(result['Dec'],2) == r2]\n",
    "    return result\n"
   ]
  },
  {
   "cell_type": "markdown",
   "metadata": {},
   "source": [
    "<h5>Building the map with given information:</h5>"
   ]
  },
  {
   "cell_type": "code",
   "execution_count": null,
   "metadata": {},
   "outputs": [],
   "source": [
    "def build_map():\n",
    "    data = ascii.read(\"lmxb_hmxb combined_cosmic sources.csv\")\n",
    "    \n",
    "    ra_degree = []  \n",
    "    dec_degree = [] \n",
    "    names = []\n",
    "\n",
    "    for i in range(len(data)):\n",
    "        i_row = data[i] # get the first (ith) row\n",
    "        ra = astro_cords.Angle(i_row[\"RA\"], unit=astro_units.hour) # create an Angle object\n",
    "        ra_degree.append(ra.degree)\n",
    "        dec = astro_cords.Angle(i_row[\"Dec\"], unit=astro_units.deg)\n",
    "        dec_degree.append(dec.degree)\n",
    "        name = i_row[\"NAME\"]\n",
    "        names.append(name)\n",
    "\n",
    "    ra = astro_cords.Angle(ra_degree*astro_units.degree)\n",
    "    ra = ra.wrap_at(180*astro_units.degree)\n",
    "\n",
    "    dec = astro_cords.Angle(dec_degree*astro_units.degree)"
   ]
  },
  {
   "cell_type": "markdown",
   "metadata": {},
   "source": [
    "<h5>Creating mollweide and scatter plot:</h5>"
   ]
  },
  {
   "cell_type": "code",
   "execution_count": null,
   "metadata": {},
   "outputs": [],
   "source": [
    "    fig = plt.figure(figsize=(8,6))\n",
    "    ax = fig.add_subplot(111, projection=\"mollweide\")\n",
    "    #scatter plot\n",
    "    scat_plot = ax.scatter(ra.radian, dec.radian)\n",
    "    annot = ax.annotate(\"\", xy=(0,0), xytext=(20,20),textcoords=\"offset points\", bbox=dict(boxstyle=\"round\", fc=\"w\"), arrowprops=dict(arrowstyle=\"->\"))\n",
    "    annot.set_visible(False)\n"
   ]
  },
  {
   "cell_type": "code",
   "execution_count": null,
   "metadata": {},
   "outputs": [],
   "source": [
    "def update_annot(ind):\n",
    "            pos = scat_plot.get_offsets()[ind[\"ind\"][0]]\n",
    "            annot.xy = pos\n",
    "            text = \"\"\n",
    "            if len(ind[\"ind\"])>0:\n",
    "                currHoverData = []\n",
    "            for i in ind[\"ind\"]:\n",
    "                text+= \" Source name : \"+names[i]+\"\\n\"\n",
    "                df_astrosat_data = getData(names[i])\n",
    "                if (df_astrosat_data[df_astrosat_data.columns[0]].count())==0:\n",
    "                    text+= \" Astrosat : False\"+\"\\n\"\n",
    "                else:\n",
    "                    text+= \" Astrosat : True\"+\"\\n\"\n",
    "                currHoverData.append(names[i])\n",
    "            annot.set_text(text)\n",
    "            annot.get_bbox_patch()\n",
    "            # .set_facecolor(cmap(norm(c[ind[\"ind\"][0]])))\n",
    "            annot.get_bbox_patch().set_alpha(0.4)"
   ]
  },
  {
   "cell_type": "markdown",
   "metadata": {},
   "source": [
    "<h5>Hovering over the plot:</h5>\n",
    "<br>\n",
    "<body> This basically checks each point that we hover. Only if an astrosat is present, a variable gets assigned true, and based on that variable we check for the required information and display it.\n",
    "</body>"
   ]
  },
  {
   "cell_type": "code",
   "execution_count": null,
   "metadata": {},
   "outputs": [],
   "source": [
    "def hover(event):\n",
    "        vis = annot.get_visible()\n",
    "        if event.inaxes == ax:\n",
    "            cont, ind = scat_plot.contains(event)\n",
    "            if cont:\n",
    "                update_annot(ind)\n",
    "                annot.set_visible(True)\n",
    "                fig.canvas.draw_idle()\n",
    "            else:\n",
    "                if vis:\n",
    "                    annot.set_visible(False)\n",
    "                    fig.canvas.draw_idle()\n",
    "    fig.canvas.mpl_connect(\"motion_notify_event\", hover)"
   ]
  },
  {
   "cell_type": "markdown",
   "metadata": {},
   "source": [
    "<h5> On clicking any point on the map, it shows the list of sources available in a new window. Upon clicking the souce in new window, it shows the information of the source. </h5>"
   ]
  },
  {
   "cell_type": "code",
   "execution_count": null,
   "metadata": {},
   "outputs": [],
   "source": [
    "def onclick(event):\n",
    "        cont, ind = scat_plot.contains(event)\n",
    "        if cont:\n",
    "            text = \"\"\n",
    "            obtainedData = []\n",
    "            for i in ind[\"ind\"]:\n",
    "                obtainedData.append(names[i])\n",
    "            clickedSourceBox(obtainedData)\n",
    "    fig.canvas.mpl_connect(\"button_press_event\", onclick)\n",
    "    ax.set_xticklabels(['14h','16h','18h','20h','22h','0h','2h','4h','6h','8h','10h'])\n",
    "    ax.grid(True)\n",
    "    plt.show()"
   ]
  },
  {
   "cell_type": "markdown",
   "metadata": {},
   "source": [
    "<h5>Building of the map:</h5>"
   ]
  },
  {
   "cell_type": "code",
   "execution_count": null,
   "metadata": {},
   "outputs": [],
   "source": [
    "## Applet code\n",
    "root = Tk() \n",
    "root.configure(bg= 'mint cream')\n",
    "# Wrapper 1 stores the Star Map:\n",
    "w1 = LabelFrame(root)\n",
    "w1.pack(fill=\"x\",padx=10, pady=10)\n",
    "# Wrapper 2 stores the Catalog content:\n",
    "w2 = LabelFrame(root)\n",
    "w2.pack(fill=\"both\",expand=\"yes\",padx=10, pady=10)\n",
    "\n"
   ]
  },
  {
   "cell_type": "code",
   "execution_count": null,
   "metadata": {},
   "outputs": [],
   "source": [
    "def makestarmap():\n",
    "    build_map()\n",
    "B = tk.Button(w1, text =\"GetStarMap\", command = makestarmap)\n",
    "B.pack()\n"
   ]
  },
  {
   "cell_type": "markdown",
   "metadata": {},
   "source": [
    "<h5> Selecting different files for the Astrosat Data, Sources and Publication Data and making them clickable through buttons</h5>"
   ]
  },
  {
   "cell_type": "code",
   "execution_count": null,
   "metadata": {},
   "outputs": [],
   "source": [
    "\n",
    "heading = tk.Label( w1, text=\"VISUALIZATION TOOL FOR ASTROSAT OBSERVATIONS\", font=(\"Arial\", 15))\n",
    "heading.pack()\n",
    "\n",
    "file_input_frame_alpha = tk.LabelFrame(w1, text=\"Import Files\")\n",
    "file_input_frame_alpha.pack(fill=\"x\",expand=\"yes\",padx=10, pady=10)\n",
    "\n",
    "# astrosat data file\n",
    "file_frame_astrosat_data = tk.LabelFrame(file_input_frame_alpha, text=\"Astrosat Data File\")\n",
    "file_frame_astrosat_data.pack(side=\"left\",expand=\"yes\",padx=10, pady=10,fill = tk.BOTH)\n",
    "label_file_text = \"No File Selected\"\n",
    "varast = tk.StringVar()\n",
    "label_file = ttk.Label(file_frame_astrosat_data, textvariable=varast)\n",
    "varast.set(label_file_text[-25:])\n",
    "label_file.pack(fill=\"x\",expand=\"yes\",padx=10, pady=2)\n",
    "button1_astrosat_data = tk.Button(file_frame_astrosat_data, text=\"Browse A File\", command=lambda: File_dialog(label_file_text, varast))\n",
    "button1_astrosat_data.pack(fill=\"x\",expand=\"yes\",padx=10, pady=2)\n",
    "button2_astrosat_data = tk.Button(file_frame_astrosat_data, text=\"Load File\", command=lambda: Load_excel_data(astro_csv_file, label_file_text))\n",
    "button2_astrosat_data.pack(fill=\"x\",expand=\"yes\",padx=10, pady=2)\n",
    "\n",
    "# Sources Data\n",
    "file_frame_sources_data = tk.LabelFrame(file_input_frame_alpha, text=\"Sources Data File\")\n",
    "file_frame_sources_data.pack(side=\"left\",expand=\"yes\",padx=10, pady=10, fill = tk.BOTH)\n",
    "label_file_sources_text = \"No File Selected\"\n",
    "varsou = tk.StringVar()\n",
    "label_file_sources = ttk.Label(file_frame_sources_data, textvariable=varsou)\n",
    "varsou.set( label_file_sources_text[-25:])\n",
    "label_file_sources.pack(fill=\"x\",expand=\"yes\",padx=10, pady=2)\n",
    "button1_sources_data = tk.Button(file_frame_sources_data, text=\"Browse A File\", command=lambda: File_dialog(label_file_sources_text, varsou))\n",
    "button1_sources_data.pack(fill=\"x\",expand=\"yes\",padx=10, pady=2)\n",
    "button2_sources_data = tk.Button(file_frame_sources_data, text=\"Load File\", command=lambda: Load_excel_data(sources_csv_file, label_file_sources_text))\n",
    "button2_sources_data.pack(fill=\"x\",expand=\"yes\",padx=10, pady=2)\n",
    "\n",
    "# Publications Data\n",
    "file_frame_publications_data = tk.LabelFrame(file_input_frame_alpha, text=\"Publications Data File\")\n",
    "file_frame_publications_data.pack(side=\"left\",expand=\"yes\",padx=10, pady=10, fill = tk.BOTH)\n",
    "label_file_publications_text = \"No File Selected\"\n",
    "varpub = tk.StringVar()\n",
    "label_file_publications = ttk.Label(file_frame_publications_data, textvariable=varpub)\n",
    "varpub.set(label_file_publications_text[-25:])\n",
    "label_file_publications.pack(fill=\"x\",expand=\"yes\",padx=10, pady=2)\n",
    "button1_publications_data = tk.Button(file_frame_publications_data, text=\"Browse A File\", command=lambda: File_dialog(label_file_publications_text, varpub))\n",
    "button1_publications_data.pack(fill=\"x\",expand=\"yes\",padx=10, pady=2)\n",
    "button2_publications_data = tk.Button(file_frame_publications_data, text=\"Load File\", command=lambda: Load_excel_data(publications_csv, label_file_publications_text))\n",
    "button2_publications_data.pack(fill=\"x\",expand=\"yes\",padx=10, pady=2)\n",
    "\n",
    "\n",
    "def File_dialog(label_file, var):\n",
    "    \"\"\"This Function will open the file explorer and assign the chosen file path to label_file\"\"\"\n",
    "    filename = filedialog.askopenfilename(initialdir=\"/\",\n",
    "                                          title=\"Select A File\",\n",
    "                                          filetype=((\"xlsx files\", \"*.xlsx\"),(\"All Files\", \"*.*\")))\n",
    "    label_file = filename\n",
    "    var.set(label_file[-25:])\n",
    "    return None\n",
    "\n",
    "def Load_excel_data(pathToSet, label_file):\n",
    "    \"\"\"If the file selected is valid this will load the file into the Treeview\"\"\"\n",
    "    file_path = label_file\n",
    "    try:\n",
    "        excel_filename = r\"{}\".format(file_path)\n",
    "        if excel_filename[-4:] == \".csv\":\n",
    "            pathToSet = excel_filename\n",
    "        else:\n",
    "            tk.messagebox.showerror(\"Information\", \"Please select a csv file\")\n",
    "\n",
    "    except ValueError:\n",
    "        tk.messagebox.showerror(\"Information\", \"The file you have chosen is invalid\")\n",
    "        return None\n",
    "    except FileNotFoundError:\n",
    "        tk.messagebox.showerror(\"Information\", \"No such file as {}\".format(file_path))\n",
    "        return None"
   ]
  },
  {
   "cell_type": "markdown",
   "metadata": {},
   "source": [
    "<h5>Graphical User Interface:</h5>"
   ]
  },
  {
   "cell_type": "code",
   "execution_count": null,
   "metadata": {},
   "outputs": [],
   "source": [
    "################ Wrapper 2 GUI #####################################\n",
    "\n",
    "# Frame for TreeView\n",
    "frame1 = tk.LabelFrame(w2, text=\"List of Proposals\",bg='SkyBlue1')\n",
    "frame1.pack(fill=\"both\",expand=\"yes\",padx=10, pady=5) \n",
    "\n",
    "df = pd.read_csv(astro_csv_file)\n",
    "\n"
   ]
  },
  {
   "cell_type": "code",
   "execution_count": null,
   "metadata": {},
   "outputs": [],
   "source": [
    "# Frame for Selected Catalog \n",
    "file_frame = tk.LabelFrame(w2, text=\"Selected Proposal\",bg='SkyBlue1')\n",
    "file_frame.pack(fill=\"both\",expand=\"yes\",padx=10, pady=5)\n"
   ]
  },
  {
   "cell_type": "code",
   "execution_count": null,
   "metadata": {},
   "outputs": [],
   "source": [
    "## Treeview Widget\n",
    "tv1 = ttk.Treeview(frame1, columns=[\"Sl.no\", \"Catalog_ID\"], show=\"headings\", height=\"6\")\n",
    "tv1.heading(\"Sl.no\", text = \"Sl.no\")\n",
    "tv1.heading(\"Catalog_ID\", text = \"Catalog ID\")\n",
    "tv1.place(relheight=1, relwidth=1) # set the height and width of the widget to 100% of its container (frame1).\n",
    "\n",
    "treescrolly = tk.Scrollbar(frame1, orient=\"vertical\", command=tv1.yview) # command means update the yaxis view of the widget\n",
    "treescrollx = tk.Scrollbar(frame1, orient=\"horizontal\", command=tv1.xview) # command means update the xaxis view of the widget\n",
    "\n",
    "tv1.configure(xscrollcommand=treescrollx.set, yscrollcommand=treescrolly.set) # assign the scrollbars to the Treeview Widget\n",
    "\n",
    "treescrollx.pack(side=\"bottom\", fill=\"x\") # make the scrollbar fill the x axis of the Treeview widget\n",
    "treescrolly.pack(side=\"right\", fill=\"y\") # make the scrollbar fill the y axis of the Treeview widget\n",
    "\n",
    "catalog_data = df[['Proposal_ID']]\n",
    "catalog_ID_list = sorted(set(catalog_data['Proposal_ID'].array))   \n",
    "for i in range(len(catalog_ID_list)):\n",
    "    tv1.insert('', 'end',values=(i+1,catalog_ID_list[i]))\n"
   ]
  },
  {
   "cell_type": "code",
   "execution_count": null,
   "metadata": {},
   "outputs": [],
   "source": [
    "def OnDoubleClick(event):\n",
    "        clear_data()\n",
    "        s = tv1.selection()[0]\n",
    "        selected_catalog_id = tv1.item(s,\"values\")[1]\n",
    "        df2 = df.loc[df['Proposal_ID'] == str(selected_catalog_id)]\n",
    "        tv2[\"column\"] = list(df2.columns)\n",
    "        tv2[\"show\"] = \"headings\"\n",
    "        for column in tv2[\"columns\"]:\n",
    "            tv2.heading(column, text=column) # let the column heading = column name\n",
    "        df_rows2 = df2.to_numpy().tolist() # turns the dataframe into a list of lists\n",
    "        for row in df_rows2:\n",
    "            tv2.insert(\"\", \"end\", values=row) # inserts each list into the treeview. \n",
    "tv1.bind(\"<Double-1>\", OnDoubleClick)\n"
   ]
  },
  {
   "cell_type": "code",
   "execution_count": null,
   "metadata": {},
   "outputs": [],
   "source": [
    "## Treeview Widget\n",
    "tv2 = ttk.Treeview(file_frame, show=\"headings\", height=\"6\")\n",
    "tv2.place(relheight=1, relwidth=1)\n",
    "\n",
    "treescrolly2 = tk.Scrollbar(file_frame, orient=\"vertical\", command=tv2.yview) # command means update the yaxis view of the widget\n",
    "treescrollx2 = tk.Scrollbar(file_frame, orient=\"horizontal\", command=tv2.xview) # command means update the xaxis view of the widget\n",
    "\n",
    "tv2.configure(xscrollcommand=treescrollx2.set, yscrollcommand=treescrolly2.set) # assign the scrollbars to the Treeview Widget\n",
    "\n",
    "treescrollx2.pack(side=\"bottom\", fill=\"x\") # make the scrollbar fill the x axis of the Treeview widget\n",
    "treescrolly2.pack(side=\"right\", fill=\"y\") # make the scrollbar fill the y axis of the Treeview widget\n"
   ]
  },
  {
   "cell_type": "markdown",
   "metadata": {},
   "source": [
    "<h5> Clearing the data of previously selected source from the table </h5>"
   ]
  },
  {
   "cell_type": "code",
   "execution_count": null,
   "metadata": {},
   "outputs": [],
   "source": [
    "def clear_data():  #clears the data from the table\n",
    "    tv2.delete(*tv2.get_children())\n",
    "    return None\n"
   ]
  },
  {
   "cell_type": "markdown",
   "metadata": {},
   "source": [
    "<h5> Creating our main window </h5>\n",
    "<br>\n",
    "<body> Our main window has the functionality of selecting files, getting the map with the click of a button, getting the details of the proposal ID on selecting a particular Proposal ID</body>"
   ]
  },
  {
   "cell_type": "code",
   "execution_count": null,
   "metadata": {},
   "outputs": [],
   "source": [
    "# Execute Tkinter\n",
    "root.title(\"Welcome to ISRO data analyzer\")\n",
    "root.geometry('800x800')\n",
    "root.mainloop()"
   ]
  }
 ],
 "metadata": {
  "kernelspec": {
   "display_name": "Python 3",
   "language": "python",
   "name": "python3"
  },
  "language_info": {
   "codemirror_mode": {
    "name": "ipython",
    "version": 3
   },
   "file_extension": ".py",
   "mimetype": "text/x-python",
   "name": "python",
   "nbconvert_exporter": "python",
   "pygments_lexer": "ipython3",
   "version": "3.8.2"
  }
 },
 "nbformat": 4,
 "nbformat_minor": 5
}
